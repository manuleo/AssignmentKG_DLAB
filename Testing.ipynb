{
 "cells": [
  {
   "cell_type": "code",
   "execution_count": 80,
   "metadata": {},
   "outputs": [],
   "source": [
    "import pandas as pd\n",
    "import numpy as np"
   ]
  },
  {
   "cell_type": "code",
   "execution_count": 20,
   "metadata": {},
   "outputs": [
    {
     "data": {
      "text/html": [
       "<div>\n",
       "<style scoped>\n",
       "    .dataframe tbody tr th:only-of-type {\n",
       "        vertical-align: middle;\n",
       "    }\n",
       "\n",
       "    .dataframe tbody tr th {\n",
       "        vertical-align: top;\n",
       "    }\n",
       "\n",
       "    .dataframe thead th {\n",
       "        text-align: right;\n",
       "    }\n",
       "</style>\n",
       "<table border=\"1\" class=\"dataframe\">\n",
       "  <thead>\n",
       "    <tr style=\"text-align: right;\">\n",
       "      <th></th>\n",
       "      <th>FB</th>\n",
       "      <th>DB</th>\n",
       "    </tr>\n",
       "  </thead>\n",
       "  <tbody>\n",
       "    <tr>\n",
       "      <th>0</th>\n",
       "      <td>/m/01m4kpp</td>\n",
       "      <td>&lt;http://dbpedia.org/resource/Andy_Griffith&gt;</td>\n",
       "    </tr>\n",
       "    <tr>\n",
       "      <th>1</th>\n",
       "      <td>/m/01s47p</td>\n",
       "      <td>&lt;http://dbpedia.org/resource/Spanish_Empire&gt;</td>\n",
       "    </tr>\n",
       "    <tr>\n",
       "      <th>2</th>\n",
       "      <td>/m/0yyts</td>\n",
       "      <td>&lt;http://dbpedia.org/resource/Driving_Miss_Daisy&gt;</td>\n",
       "    </tr>\n",
       "    <tr>\n",
       "      <th>3</th>\n",
       "      <td>/m/0r6c4</td>\n",
       "      <td>&lt;http://dbpedia.org/resource/Mountain_View,_Ca...</td>\n",
       "    </tr>\n",
       "    <tr>\n",
       "      <th>4</th>\n",
       "      <td>/m/04l_pt</td>\n",
       "      <td>&lt;http://dbpedia.org/resource/Thai_Chinese&gt;</td>\n",
       "    </tr>\n",
       "    <tr>\n",
       "      <th>...</th>\n",
       "      <td>...</td>\n",
       "      <td>...</td>\n",
       "    </tr>\n",
       "    <tr>\n",
       "      <th>12841</th>\n",
       "      <td>/m/0dq3c</td>\n",
       "      <td>&lt;http://dbpedia.org/resource/Vice_president&gt;</td>\n",
       "    </tr>\n",
       "    <tr>\n",
       "      <th>12842</th>\n",
       "      <td>/m/0ph24</td>\n",
       "      <td>&lt;http://dbpedia.org/resource/Late_Show_with_Da...</td>\n",
       "    </tr>\n",
       "    <tr>\n",
       "      <th>12843</th>\n",
       "      <td>/m/0jtdp</td>\n",
       "      <td>&lt;http://dbpedia.org/resource/Documentary_film&gt;</td>\n",
       "    </tr>\n",
       "    <tr>\n",
       "      <th>12844</th>\n",
       "      <td>/m/0qmny</td>\n",
       "      <td>&lt;http://dbpedia.org/resource/Funkadelic&gt;</td>\n",
       "    </tr>\n",
       "    <tr>\n",
       "      <th>12845</th>\n",
       "      <td>/m/0k_p5</td>\n",
       "      <td>&lt;http://dbpedia.org/resource/Woodland_Hills,_L...</td>\n",
       "    </tr>\n",
       "  </tbody>\n",
       "</table>\n",
       "<p>12846 rows × 2 columns</p>\n",
       "</div>"
      ],
      "text/plain": [
       "               FB                                                 DB\n",
       "0      /m/01m4kpp        <http://dbpedia.org/resource/Andy_Griffith>\n",
       "1       /m/01s47p       <http://dbpedia.org/resource/Spanish_Empire>\n",
       "2        /m/0yyts   <http://dbpedia.org/resource/Driving_Miss_Daisy>\n",
       "3        /m/0r6c4  <http://dbpedia.org/resource/Mountain_View,_Ca...\n",
       "4       /m/04l_pt         <http://dbpedia.org/resource/Thai_Chinese>\n",
       "...           ...                                                ...\n",
       "12841    /m/0dq3c       <http://dbpedia.org/resource/Vice_president>\n",
       "12842    /m/0ph24  <http://dbpedia.org/resource/Late_Show_with_Da...\n",
       "12843    /m/0jtdp     <http://dbpedia.org/resource/Documentary_film>\n",
       "12844    /m/0qmny           <http://dbpedia.org/resource/Funkadelic>\n",
       "12845    /m/0k_p5  <http://dbpedia.org/resource/Woodland_Hills,_L...\n",
       "\n",
       "[12846 rows x 2 columns]"
      ]
     },
     "execution_count": 20,
     "metadata": {},
     "output_type": "execute_result"
    }
   ],
   "source": [
    "same_as = pd.read_csv(\"data/DB15K_SameAsLink.nt\", \" \", header=None)[[0,2]]\n",
    "same_as.rename(columns={0:\"FB\", 2:\"DB\"}, inplace=True)\n",
    "same_as"
   ]
  },
  {
   "cell_type": "code",
   "execution_count": 181,
   "metadata": {},
   "outputs": [],
   "source": [
    "sampled = same_as.sample(frac=0.1, replace=True, random_state=42)"
   ]
  },
  {
   "cell_type": "code",
   "execution_count": 182,
   "metadata": {},
   "outputs": [],
   "source": [
    "DB = open(\"data/DB15K_EntityTriples.nt\")\n",
    "FB = open(\"data/FB15K_EntityTriples.nt\")\n",
    "DB_lines = DB.readlines()\n",
    "FB_lines = FB.readlines()"
   ]
  },
  {
   "cell_type": "code",
   "execution_count": 183,
   "metadata": {},
   "outputs": [
    {
     "data": {
      "text/html": [
       "<div>\n",
       "<style scoped>\n",
       "    .dataframe tbody tr th:only-of-type {\n",
       "        vertical-align: middle;\n",
       "    }\n",
       "\n",
       "    .dataframe tbody tr th {\n",
       "        vertical-align: top;\n",
       "    }\n",
       "\n",
       "    .dataframe thead th {\n",
       "        text-align: right;\n",
       "    }\n",
       "</style>\n",
       "<table border=\"1\" class=\"dataframe\">\n",
       "  <thead>\n",
       "    <tr style=\"text-align: right;\">\n",
       "      <th></th>\n",
       "      <th>FB</th>\n",
       "      <th>DB</th>\n",
       "    </tr>\n",
       "  </thead>\n",
       "  <tbody>\n",
       "    <tr>\n",
       "      <th>7270</th>\n",
       "      <td>/m/02vkvcz</td>\n",
       "      <td>&lt;http://dbpedia.org/resource/Shirley_Ann_Russell&gt;</td>\n",
       "    </tr>\n",
       "    <tr>\n",
       "      <th>860</th>\n",
       "      <td>/m/0gg5kmg</td>\n",
       "      <td>&lt;http://dbpedia.org/resource/Killing_Them_Softly&gt;</td>\n",
       "    </tr>\n",
       "    <tr>\n",
       "      <th>5390</th>\n",
       "      <td>/m/01pk8b</td>\n",
       "      <td>&lt;http://dbpedia.org/resource/Jeddah&gt;</td>\n",
       "    </tr>\n",
       "    <tr>\n",
       "      <th>5191</th>\n",
       "      <td>/m/0mbhr</td>\n",
       "      <td>&lt;http://dbpedia.org/resource/Joanna_Lumley&gt;</td>\n",
       "    </tr>\n",
       "    <tr>\n",
       "      <th>11964</th>\n",
       "      <td>/m/0cw51</td>\n",
       "      <td>&lt;http://dbpedia.org/resource/Bhopal&gt;</td>\n",
       "    </tr>\n",
       "    <tr>\n",
       "      <th>...</th>\n",
       "      <td>...</td>\n",
       "      <td>...</td>\n",
       "    </tr>\n",
       "    <tr>\n",
       "      <th>10789</th>\n",
       "      <td>/m/060pl5</td>\n",
       "      <td>&lt;http://dbpedia.org/resource/Jim_Reardon&gt;</td>\n",
       "    </tr>\n",
       "    <tr>\n",
       "      <th>11397</th>\n",
       "      <td>/m/049dk</td>\n",
       "      <td>&lt;http://dbpedia.org/resource/Kansas_State_Univ...</td>\n",
       "    </tr>\n",
       "    <tr>\n",
       "      <th>6166</th>\n",
       "      <td>/m/04cdxc</td>\n",
       "      <td>&lt;http://dbpedia.org/resource/Prabhu_(actor)&gt;</td>\n",
       "    </tr>\n",
       "    <tr>\n",
       "      <th>814</th>\n",
       "      <td>/m/03mcwq3</td>\n",
       "      <td>&lt;http://dbpedia.org/resource/Anna_Gunn&gt;</td>\n",
       "    </tr>\n",
       "    <tr>\n",
       "      <th>345</th>\n",
       "      <td>/m/03krj</td>\n",
       "      <td>&lt;http://dbpedia.org/resource/Handball&gt;</td>\n",
       "    </tr>\n",
       "  </tbody>\n",
       "</table>\n",
       "<p>1285 rows × 2 columns</p>\n",
       "</div>"
      ],
      "text/plain": [
       "               FB                                                 DB\n",
       "7270   /m/02vkvcz  <http://dbpedia.org/resource/Shirley_Ann_Russell>\n",
       "860    /m/0gg5kmg  <http://dbpedia.org/resource/Killing_Them_Softly>\n",
       "5390    /m/01pk8b               <http://dbpedia.org/resource/Jeddah>\n",
       "5191     /m/0mbhr        <http://dbpedia.org/resource/Joanna_Lumley>\n",
       "11964    /m/0cw51               <http://dbpedia.org/resource/Bhopal>\n",
       "...           ...                                                ...\n",
       "10789   /m/060pl5          <http://dbpedia.org/resource/Jim_Reardon>\n",
       "11397    /m/049dk  <http://dbpedia.org/resource/Kansas_State_Univ...\n",
       "6166    /m/04cdxc       <http://dbpedia.org/resource/Prabhu_(actor)>\n",
       "814    /m/03mcwq3            <http://dbpedia.org/resource/Anna_Gunn>\n",
       "345      /m/03krj             <http://dbpedia.org/resource/Handball>\n",
       "\n",
       "[1285 rows x 2 columns]"
      ]
     },
     "execution_count": 183,
     "metadata": {},
     "output_type": "execute_result"
    }
   ],
   "source": [
    "sampled"
   ]
  },
  {
   "cell_type": "code",
   "execution_count": null,
   "metadata": {},
   "outputs": [],
   "source": [
    "# a = 0\n",
    "# for index, row in sampled.iterrows():\n",
    "#     #print(row[\"DB\"], row[\"FB\"])\n",
    "#     label = row[\"DB\"].split(\"/\")[-1].replace(\">\",\"\")\n",
    "#     for i_db,l_db in enumerate(DB_lines):\n",
    "#         if row[\"DB\"] in l_db:\n",
    "#             print(i_db, l_db)\n",
    "#     if (a==10):\n",
    "#         break\n",
    "#     a += 1"
   ]
  },
  {
   "cell_type": "code",
   "execution_count": 186,
   "metadata": {},
   "outputs": [],
   "source": [
    "def create_label(sample_row):\n",
    "    label = sample_row[\"DB\"].split(\"/\")[-1].replace(\">\",\"\")\n",
    "    label_str = '{resource} <http://www.w3.org/2000/01/rdf-schema#label> \"{label}\" . \\n'\n",
    "    sample_row[\"DB_labeled\"] = label_str.format(resource=sample_row[\"DB\"], label=label)\n",
    "    sample_row[\"FB_labeled\"] = label_str.format(resource=sample_row[\"FB\"], label=label)\n",
    "    return sample_row"
   ]
  },
  {
   "cell_type": "code",
   "execution_count": 187,
   "metadata": {},
   "outputs": [
    {
     "data": {
      "text/html": [
       "<div>\n",
       "<style scoped>\n",
       "    .dataframe tbody tr th:only-of-type {\n",
       "        vertical-align: middle;\n",
       "    }\n",
       "\n",
       "    .dataframe tbody tr th {\n",
       "        vertical-align: top;\n",
       "    }\n",
       "\n",
       "    .dataframe thead th {\n",
       "        text-align: right;\n",
       "    }\n",
       "</style>\n",
       "<table border=\"1\" class=\"dataframe\">\n",
       "  <thead>\n",
       "    <tr style=\"text-align: right;\">\n",
       "      <th></th>\n",
       "      <th>FB</th>\n",
       "      <th>DB</th>\n",
       "      <th>DB_labeled</th>\n",
       "      <th>FB_labeled</th>\n",
       "    </tr>\n",
       "  </thead>\n",
       "  <tbody>\n",
       "    <tr>\n",
       "      <th>7270</th>\n",
       "      <td>/m/02vkvcz</td>\n",
       "      <td>&lt;http://dbpedia.org/resource/Shirley_Ann_Russell&gt;</td>\n",
       "      <td>&lt;http://dbpedia.org/resource/Shirley_Ann_Russe...</td>\n",
       "      <td>/m/02vkvcz &lt;http://www.w3.org/2000/01/rdf-sche...</td>\n",
       "    </tr>\n",
       "    <tr>\n",
       "      <th>860</th>\n",
       "      <td>/m/0gg5kmg</td>\n",
       "      <td>&lt;http://dbpedia.org/resource/Killing_Them_Softly&gt;</td>\n",
       "      <td>&lt;http://dbpedia.org/resource/Killing_Them_Soft...</td>\n",
       "      <td>/m/0gg5kmg &lt;http://www.w3.org/2000/01/rdf-sche...</td>\n",
       "    </tr>\n",
       "    <tr>\n",
       "      <th>5390</th>\n",
       "      <td>/m/01pk8b</td>\n",
       "      <td>&lt;http://dbpedia.org/resource/Jeddah&gt;</td>\n",
       "      <td>&lt;http://dbpedia.org/resource/Jeddah&gt; &lt;http://w...</td>\n",
       "      <td>/m/01pk8b &lt;http://www.w3.org/2000/01/rdf-schem...</td>\n",
       "    </tr>\n",
       "    <tr>\n",
       "      <th>5191</th>\n",
       "      <td>/m/0mbhr</td>\n",
       "      <td>&lt;http://dbpedia.org/resource/Joanna_Lumley&gt;</td>\n",
       "      <td>&lt;http://dbpedia.org/resource/Joanna_Lumley&gt; &lt;h...</td>\n",
       "      <td>/m/0mbhr &lt;http://www.w3.org/2000/01/rdf-schema...</td>\n",
       "    </tr>\n",
       "    <tr>\n",
       "      <th>11964</th>\n",
       "      <td>/m/0cw51</td>\n",
       "      <td>&lt;http://dbpedia.org/resource/Bhopal&gt;</td>\n",
       "      <td>&lt;http://dbpedia.org/resource/Bhopal&gt; &lt;http://w...</td>\n",
       "      <td>/m/0cw51 &lt;http://www.w3.org/2000/01/rdf-schema...</td>\n",
       "    </tr>\n",
       "    <tr>\n",
       "      <th>...</th>\n",
       "      <td>...</td>\n",
       "      <td>...</td>\n",
       "      <td>...</td>\n",
       "      <td>...</td>\n",
       "    </tr>\n",
       "    <tr>\n",
       "      <th>10789</th>\n",
       "      <td>/m/060pl5</td>\n",
       "      <td>&lt;http://dbpedia.org/resource/Jim_Reardon&gt;</td>\n",
       "      <td>&lt;http://dbpedia.org/resource/Jim_Reardon&gt; &lt;htt...</td>\n",
       "      <td>/m/060pl5 &lt;http://www.w3.org/2000/01/rdf-schem...</td>\n",
       "    </tr>\n",
       "    <tr>\n",
       "      <th>11397</th>\n",
       "      <td>/m/049dk</td>\n",
       "      <td>&lt;http://dbpedia.org/resource/Kansas_State_Univ...</td>\n",
       "      <td>&lt;http://dbpedia.org/resource/Kansas_State_Univ...</td>\n",
       "      <td>/m/049dk &lt;http://www.w3.org/2000/01/rdf-schema...</td>\n",
       "    </tr>\n",
       "    <tr>\n",
       "      <th>6166</th>\n",
       "      <td>/m/04cdxc</td>\n",
       "      <td>&lt;http://dbpedia.org/resource/Prabhu_(actor)&gt;</td>\n",
       "      <td>&lt;http://dbpedia.org/resource/Prabhu_(actor)&gt; &lt;...</td>\n",
       "      <td>/m/04cdxc &lt;http://www.w3.org/2000/01/rdf-schem...</td>\n",
       "    </tr>\n",
       "    <tr>\n",
       "      <th>814</th>\n",
       "      <td>/m/03mcwq3</td>\n",
       "      <td>&lt;http://dbpedia.org/resource/Anna_Gunn&gt;</td>\n",
       "      <td>&lt;http://dbpedia.org/resource/Anna_Gunn&gt; &lt;http:...</td>\n",
       "      <td>/m/03mcwq3 &lt;http://www.w3.org/2000/01/rdf-sche...</td>\n",
       "    </tr>\n",
       "    <tr>\n",
       "      <th>345</th>\n",
       "      <td>/m/03krj</td>\n",
       "      <td>&lt;http://dbpedia.org/resource/Handball&gt;</td>\n",
       "      <td>&lt;http://dbpedia.org/resource/Handball&gt; &lt;http:/...</td>\n",
       "      <td>/m/03krj &lt;http://www.w3.org/2000/01/rdf-schema...</td>\n",
       "    </tr>\n",
       "  </tbody>\n",
       "</table>\n",
       "<p>1285 rows × 4 columns</p>\n",
       "</div>"
      ],
      "text/plain": [
       "               FB                                                 DB  \\\n",
       "7270   /m/02vkvcz  <http://dbpedia.org/resource/Shirley_Ann_Russell>   \n",
       "860    /m/0gg5kmg  <http://dbpedia.org/resource/Killing_Them_Softly>   \n",
       "5390    /m/01pk8b               <http://dbpedia.org/resource/Jeddah>   \n",
       "5191     /m/0mbhr        <http://dbpedia.org/resource/Joanna_Lumley>   \n",
       "11964    /m/0cw51               <http://dbpedia.org/resource/Bhopal>   \n",
       "...           ...                                                ...   \n",
       "10789   /m/060pl5          <http://dbpedia.org/resource/Jim_Reardon>   \n",
       "11397    /m/049dk  <http://dbpedia.org/resource/Kansas_State_Univ...   \n",
       "6166    /m/04cdxc       <http://dbpedia.org/resource/Prabhu_(actor)>   \n",
       "814    /m/03mcwq3            <http://dbpedia.org/resource/Anna_Gunn>   \n",
       "345      /m/03krj             <http://dbpedia.org/resource/Handball>   \n",
       "\n",
       "                                              DB_labeled  \\\n",
       "7270   <http://dbpedia.org/resource/Shirley_Ann_Russe...   \n",
       "860    <http://dbpedia.org/resource/Killing_Them_Soft...   \n",
       "5390   <http://dbpedia.org/resource/Jeddah> <http://w...   \n",
       "5191   <http://dbpedia.org/resource/Joanna_Lumley> <h...   \n",
       "11964  <http://dbpedia.org/resource/Bhopal> <http://w...   \n",
       "...                                                  ...   \n",
       "10789  <http://dbpedia.org/resource/Jim_Reardon> <htt...   \n",
       "11397  <http://dbpedia.org/resource/Kansas_State_Univ...   \n",
       "6166   <http://dbpedia.org/resource/Prabhu_(actor)> <...   \n",
       "814    <http://dbpedia.org/resource/Anna_Gunn> <http:...   \n",
       "345    <http://dbpedia.org/resource/Handball> <http:/...   \n",
       "\n",
       "                                              FB_labeled  \n",
       "7270   /m/02vkvcz <http://www.w3.org/2000/01/rdf-sche...  \n",
       "860    /m/0gg5kmg <http://www.w3.org/2000/01/rdf-sche...  \n",
       "5390   /m/01pk8b <http://www.w3.org/2000/01/rdf-schem...  \n",
       "5191   /m/0mbhr <http://www.w3.org/2000/01/rdf-schema...  \n",
       "11964  /m/0cw51 <http://www.w3.org/2000/01/rdf-schema...  \n",
       "...                                                  ...  \n",
       "10789  /m/060pl5 <http://www.w3.org/2000/01/rdf-schem...  \n",
       "11397  /m/049dk <http://www.w3.org/2000/01/rdf-schema...  \n",
       "6166   /m/04cdxc <http://www.w3.org/2000/01/rdf-schem...  \n",
       "814    /m/03mcwq3 <http://www.w3.org/2000/01/rdf-sche...  \n",
       "345    /m/03krj <http://www.w3.org/2000/01/rdf-schema...  \n",
       "\n",
       "[1285 rows x 4 columns]"
      ]
     },
     "execution_count": 187,
     "metadata": {},
     "output_type": "execute_result"
    }
   ],
   "source": [
    "sampled = sampled.apply(lambda x: create_label(x), axis=1)\n",
    "sampled"
   ]
  },
  {
   "cell_type": "code",
   "execution_count": 188,
   "metadata": {},
   "outputs": [],
   "source": [
    "DB_lines_labeled = DB_lines + sampled[\"DB_labeled\"].to_list()\n",
    "FB_lines_labeled = FB_lines + sampled[\"FB_labeled\"].to_list()"
   ]
  },
  {
   "cell_type": "code",
   "execution_count": 189,
   "metadata": {},
   "outputs": [],
   "source": [
    "DB_label = open(\"test_DB.nt\", \"w\")\n",
    "FB_label = open(\"test_FB.nt\", \"w\")"
   ]
  },
  {
   "cell_type": "code",
   "execution_count": 190,
   "metadata": {},
   "outputs": [],
   "source": [
    "DB_label.writelines(DB_lines_labeled)\n",
    "FB_label.writelines(FB_lines_labeled)"
   ]
  },
  {
   "cell_type": "markdown",
   "metadata": {},
   "source": [
    "## Testing some accuracy measures"
   ]
  },
  {
   "cell_type": "code",
   "execution_count": 191,
   "metadata": {},
   "outputs": [],
   "source": [
    "same_file = open(\"data/DB15K_SameAsLink.nt\", \"r\")\n",
    "same_list = same_file.readlines()"
   ]
  },
  {
   "cell_type": "code",
   "execution_count": 192,
   "metadata": {},
   "outputs": [],
   "source": [
    "same_list = [same.replace(\" <SameAs>\", \"\").replace(\"<http://dbpedia.org/\",\"dbp:\")[:-4] for same in same_list]"
   ]
  },
  {
   "cell_type": "code",
   "execution_count": 193,
   "metadata": {},
   "outputs": [
    {
     "data": {
      "text/plain": [
       "['/m/01m4kpp dbp:resource/Andy_Griffith',\n",
       " '/m/01s47p dbp:resource/Spanish_Empire',\n",
       " '/m/0yyts dbp:resource/Driving_Miss_Daisy']"
      ]
     },
     "execution_count": 193,
     "metadata": {},
     "output_type": "execute_result"
    }
   ],
   "source": [
    "same_list[:3]"
   ]
  },
  {
   "cell_type": "code",
   "execution_count": 212,
   "metadata": {},
   "outputs": [],
   "source": [
    "res_list = pd.read_csv(\"output/9_eqv.tsv\", delimiter=\"\\t\", header=None, usecols=[0,1]).values.tolist()"
   ]
  },
  {
   "cell_type": "code",
   "execution_count": 213,
   "metadata": {},
   "outputs": [],
   "source": [
    "res_list = [\" \".join(x) for x in res_list]"
   ]
  },
  {
   "cell_type": "code",
   "execution_count": 214,
   "metadata": {},
   "outputs": [
    {
     "data": {
      "text/plain": [
       "['/m/06v8s0 dbp:resource/Wendee_Lee',\n",
       " '/m/017dcd dbp:resource/Mighty_Morphin_Power_Rangers',\n",
       " '/m/044mz_ dbp:resource/Jeremy_Davies']"
      ]
     },
     "execution_count": 214,
     "metadata": {},
     "output_type": "execute_result"
    }
   ],
   "source": [
    "res_list[:3]"
   ]
  },
  {
   "cell_type": "code",
   "execution_count": 215,
   "metadata": {},
   "outputs": [],
   "source": [
    "def precision(same_list, res_list):\n",
    "    same_set = set(same_list)\n",
    "    res_set = set(res_list)\n",
    "    precision = len(same_set.intersection(res_set))/len(res_set)\n",
    "    return precision"
   ]
  },
  {
   "cell_type": "code",
   "execution_count": 216,
   "metadata": {},
   "outputs": [
    {
     "data": {
      "text/plain": [
       "0.9285171102661597"
      ]
     },
     "execution_count": 216,
     "metadata": {},
     "output_type": "execute_result"
    }
   ],
   "source": [
    "prec = precision(same_list, res_list)\n",
    "prec"
   ]
  },
  {
   "cell_type": "code",
   "execution_count": 217,
   "metadata": {},
   "outputs": [],
   "source": [
    "def recall(same_list, res_list):\n",
    "    same_set = set(same_list)\n",
    "    res_set = set(res_list)\n",
    "    recall = len(same_set.intersection(res_set))/len(same_set)\n",
    "    return recall"
   ]
  },
  {
   "cell_type": "code",
   "execution_count": 218,
   "metadata": {},
   "outputs": [
    {
     "data": {
      "text/plain": [
       "0.47524521251751517"
      ]
     },
     "execution_count": 218,
     "metadata": {},
     "output_type": "execute_result"
    }
   ],
   "source": [
    "rec = recall(same_list, res_list)\n",
    "rec"
   ]
  },
  {
   "cell_type": "code",
   "execution_count": 219,
   "metadata": {},
   "outputs": [],
   "source": [
    "def f1_score(precision, recall):\n",
    "    f1 = 2*precision*recall/(precision + recall)\n",
    "    return f1"
   ]
  },
  {
   "cell_type": "code",
   "execution_count": 220,
   "metadata": {},
   "outputs": [
    {
     "data": {
      "text/plain": [
       "0.6287008907883219"
      ]
     },
     "execution_count": 220,
     "metadata": {},
     "output_type": "execute_result"
    }
   ],
   "source": [
    "f1 = f1_score(prec, rec)\n",
    "f1"
   ]
  },
  {
   "cell_type": "markdown",
   "metadata": {},
   "source": [
    "## Check if we find at least all the seed"
   ]
  },
  {
   "cell_type": "code",
   "execution_count": 221,
   "metadata": {},
   "outputs": [],
   "source": [
    "seed_list = sampled[[\"FB\",\"DB\"]].values.tolist()"
   ]
  },
  {
   "cell_type": "code",
   "execution_count": 222,
   "metadata": {},
   "outputs": [],
   "source": [
    "seed_list = [\" \".join(x).replace(\"<http://dbpedia.org/\",\"dbp:\")[:-1] for x in seed_list]"
   ]
  },
  {
   "cell_type": "code",
   "execution_count": 223,
   "metadata": {},
   "outputs": [
    {
     "data": {
      "text/plain": [
       "['/m/02vkvcz dbp:resource/Shirley_Ann_Russell',\n",
       " '/m/0gg5kmg dbp:resource/Killing_Them_Softly',\n",
       " '/m/01pk8b dbp:resource/Jeddah']"
      ]
     },
     "execution_count": 223,
     "metadata": {},
     "output_type": "execute_result"
    }
   ],
   "source": [
    "seed_list[:3]"
   ]
  },
  {
   "cell_type": "code",
   "execution_count": 224,
   "metadata": {},
   "outputs": [
    {
     "name": "stdout",
     "output_type": "stream",
     "text": [
      "76\n"
     ]
    }
   ],
   "source": [
    "c = 0\n",
    "not_found = []\n",
    "for s in seed_list:\n",
    "    if s not in res_list:\n",
    "        c+=1\n",
    "        not_found.append(s)\n",
    "print(c)"
   ]
  },
  {
   "cell_type": "code",
   "execution_count": 225,
   "metadata": {},
   "outputs": [
    {
     "data": {
      "text/plain": [
       "75"
      ]
     },
     "execution_count": 225,
     "metadata": {},
     "output_type": "execute_result"
    }
   ],
   "source": [
    "len(set(not_found))"
   ]
  }
 ],
 "metadata": {
  "kernelspec": {
   "display_name": "Python 3",
   "language": "python",
   "name": "python3"
  },
  "language_info": {
   "codemirror_mode": {
    "name": "ipython",
    "version": 3
   },
   "file_extension": ".py",
   "mimetype": "text/x-python",
   "name": "python",
   "nbconvert_exporter": "python",
   "pygments_lexer": "ipython3",
   "version": "3.8.2"
  }
 },
 "nbformat": 4,
 "nbformat_minor": 4
}
