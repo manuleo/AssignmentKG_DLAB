{
 "cells": [
  {
   "cell_type": "code",
   "execution_count": 4,
   "metadata": {},
   "outputs": [],
   "source": [
    "import pandas as pd\n",
    "import numpy as np\n",
    "import matplotlib.pyplot as plt\n",
    "import matplotlib"
   ]
  },
  {
   "cell_type": "code",
   "execution_count": 5,
   "metadata": {},
   "outputs": [],
   "source": [
    "matplotlib.use(\"pgf\")\n",
    "matplotlib.rcParams.update({\n",
    "    \"pgf.texsystem\": \"pdflatex\",\n",
    "    'font.family': 'serif',\n",
    "    'text.usetex': True,\n",
    "    'pgf.rcfonts': False,\n",
    "})"
   ]
  },
  {
   "cell_type": "code",
   "execution_count": 103,
   "metadata": {},
   "outputs": [
    {
     "data": {
      "text/html": [
       "<div>\n",
       "<style scoped>\n",
       "    .dataframe tbody tr th:only-of-type {\n",
       "        vertical-align: middle;\n",
       "    }\n",
       "\n",
       "    .dataframe tbody tr th {\n",
       "        vertical-align: top;\n",
       "    }\n",
       "\n",
       "    .dataframe thead th {\n",
       "        text-align: right;\n",
       "    }\n",
       "</style>\n",
       "<table border=\"1\" class=\"dataframe\">\n",
       "  <thead>\n",
       "    <tr style=\"text-align: right;\">\n",
       "      <th></th>\n",
       "      <th>FB</th>\n",
       "      <th>DB</th>\n",
       "    </tr>\n",
       "  </thead>\n",
       "  <tbody>\n",
       "    <tr>\n",
       "      <th>0</th>\n",
       "      <td>/m/01m4kpp</td>\n",
       "      <td>&lt;http://dbpedia.org/resource/Andy_Griffith&gt;</td>\n",
       "    </tr>\n",
       "    <tr>\n",
       "      <th>1</th>\n",
       "      <td>/m/01s47p</td>\n",
       "      <td>&lt;http://dbpedia.org/resource/Spanish_Empire&gt;</td>\n",
       "    </tr>\n",
       "    <tr>\n",
       "      <th>2</th>\n",
       "      <td>/m/0yyts</td>\n",
       "      <td>&lt;http://dbpedia.org/resource/Driving_Miss_Daisy&gt;</td>\n",
       "    </tr>\n",
       "    <tr>\n",
       "      <th>3</th>\n",
       "      <td>/m/0r6c4</td>\n",
       "      <td>&lt;http://dbpedia.org/resource/Mountain_View,_Ca...</td>\n",
       "    </tr>\n",
       "    <tr>\n",
       "      <th>4</th>\n",
       "      <td>/m/04l_pt</td>\n",
       "      <td>&lt;http://dbpedia.org/resource/Thai_Chinese&gt;</td>\n",
       "    </tr>\n",
       "  </tbody>\n",
       "</table>\n",
       "</div>"
      ],
      "text/plain": [
       "           FB                                                 DB\n",
       "0  /m/01m4kpp        <http://dbpedia.org/resource/Andy_Griffith>\n",
       "1   /m/01s47p       <http://dbpedia.org/resource/Spanish_Empire>\n",
       "2    /m/0yyts   <http://dbpedia.org/resource/Driving_Miss_Daisy>\n",
       "3    /m/0r6c4  <http://dbpedia.org/resource/Mountain_View,_Ca...\n",
       "4   /m/04l_pt         <http://dbpedia.org/resource/Thai_Chinese>"
      ]
     },
     "execution_count": 103,
     "metadata": {},
     "output_type": "execute_result"
    }
   ],
   "source": [
    "same_as = pd.read_csv(\"data/DB15K_SameAsLink.nt\", \" \", header=None)[[0,2]]\n",
    "same_as.rename(columns={0:\"FB\", 2:\"DB\"}, inplace=True)\n",
    "same_as.head()"
   ]
  },
  {
   "cell_type": "code",
   "execution_count": 104,
   "metadata": {},
   "outputs": [],
   "source": [
    "sampled = same_as.sample(frac=0.5, replace=True, random_state=42)"
   ]
  },
  {
   "cell_type": "code",
   "execution_count": 105,
   "metadata": {},
   "outputs": [],
   "source": [
    "DB = open(\"data/DB15K_EntityTriples.nt\")\n",
    "FB = open(\"data/FB15K_EntityTriples.nt\")\n",
    "DB_lines = DB.readlines()\n",
    "FB_lines = FB.readlines()"
   ]
  },
  {
   "cell_type": "code",
   "execution_count": 106,
   "metadata": {},
   "outputs": [
    {
     "data": {
      "text/html": [
       "<div>\n",
       "<style scoped>\n",
       "    .dataframe tbody tr th:only-of-type {\n",
       "        vertical-align: middle;\n",
       "    }\n",
       "\n",
       "    .dataframe tbody tr th {\n",
       "        vertical-align: top;\n",
       "    }\n",
       "\n",
       "    .dataframe thead th {\n",
       "        text-align: right;\n",
       "    }\n",
       "</style>\n",
       "<table border=\"1\" class=\"dataframe\">\n",
       "  <thead>\n",
       "    <tr style=\"text-align: right;\">\n",
       "      <th></th>\n",
       "      <th>FB</th>\n",
       "      <th>DB</th>\n",
       "    </tr>\n",
       "  </thead>\n",
       "  <tbody>\n",
       "    <tr>\n",
       "      <th>7270</th>\n",
       "      <td>/m/02vkvcz</td>\n",
       "      <td>&lt;http://dbpedia.org/resource/Shirley_Ann_Russell&gt;</td>\n",
       "    </tr>\n",
       "    <tr>\n",
       "      <th>860</th>\n",
       "      <td>/m/0gg5kmg</td>\n",
       "      <td>&lt;http://dbpedia.org/resource/Killing_Them_Softly&gt;</td>\n",
       "    </tr>\n",
       "    <tr>\n",
       "      <th>5390</th>\n",
       "      <td>/m/01pk8b</td>\n",
       "      <td>&lt;http://dbpedia.org/resource/Jeddah&gt;</td>\n",
       "    </tr>\n",
       "    <tr>\n",
       "      <th>5191</th>\n",
       "      <td>/m/0mbhr</td>\n",
       "      <td>&lt;http://dbpedia.org/resource/Joanna_Lumley&gt;</td>\n",
       "    </tr>\n",
       "    <tr>\n",
       "      <th>11964</th>\n",
       "      <td>/m/0cw51</td>\n",
       "      <td>&lt;http://dbpedia.org/resource/Bhopal&gt;</td>\n",
       "    </tr>\n",
       "  </tbody>\n",
       "</table>\n",
       "</div>"
      ],
      "text/plain": [
       "               FB                                                 DB\n",
       "7270   /m/02vkvcz  <http://dbpedia.org/resource/Shirley_Ann_Russell>\n",
       "860    /m/0gg5kmg  <http://dbpedia.org/resource/Killing_Them_Softly>\n",
       "5390    /m/01pk8b               <http://dbpedia.org/resource/Jeddah>\n",
       "5191     /m/0mbhr        <http://dbpedia.org/resource/Joanna_Lumley>\n",
       "11964    /m/0cw51               <http://dbpedia.org/resource/Bhopal>"
      ]
     },
     "execution_count": 106,
     "metadata": {},
     "output_type": "execute_result"
    }
   ],
   "source": [
    "sampled.head()"
   ]
  },
  {
   "cell_type": "code",
   "execution_count": 107,
   "metadata": {},
   "outputs": [],
   "source": [
    "# a = 0\n",
    "# for index, row in sampled.iterrows():\n",
    "#     #print(row[\"DB\"], row[\"FB\"])\n",
    "#     label = row[\"DB\"].split(\"/\")[-1].replace(\">\",\"\")\n",
    "#     for i_db,l_db in enumerate(DB_lines):\n",
    "#         if row[\"DB\"] in l_db:\n",
    "#             print(i_db, l_db)\n",
    "#     if (a==10):\n",
    "#         break\n",
    "#     a += 1"
   ]
  },
  {
   "cell_type": "code",
   "execution_count": 108,
   "metadata": {},
   "outputs": [],
   "source": [
    "def create_label(sample_row):\n",
    "    label = sample_row[\"DB\"].split(\"/\")[-1].replace(\">\",\"\")\n",
    "    label_str = '{resource} <http://www.w3.org/2000/01/rdf-schema#label> \"{label}\" . \\n'\n",
    "    sample_row[\"DB_labeled\"] = label_str.format(resource=sample_row[\"DB\"], label=label)\n",
    "    sample_row[\"FB_labeled\"] = label_str.format(resource=sample_row[\"FB\"], label=label)\n",
    "    return sample_row"
   ]
  },
  {
   "cell_type": "code",
   "execution_count": 109,
   "metadata": {},
   "outputs": [
    {
     "data": {
      "text/html": [
       "<div>\n",
       "<style scoped>\n",
       "    .dataframe tbody tr th:only-of-type {\n",
       "        vertical-align: middle;\n",
       "    }\n",
       "\n",
       "    .dataframe tbody tr th {\n",
       "        vertical-align: top;\n",
       "    }\n",
       "\n",
       "    .dataframe thead th {\n",
       "        text-align: right;\n",
       "    }\n",
       "</style>\n",
       "<table border=\"1\" class=\"dataframe\">\n",
       "  <thead>\n",
       "    <tr style=\"text-align: right;\">\n",
       "      <th></th>\n",
       "      <th>FB</th>\n",
       "      <th>DB</th>\n",
       "      <th>DB_labeled</th>\n",
       "      <th>FB_labeled</th>\n",
       "    </tr>\n",
       "  </thead>\n",
       "  <tbody>\n",
       "    <tr>\n",
       "      <th>7270</th>\n",
       "      <td>/m/02vkvcz</td>\n",
       "      <td>&lt;http://dbpedia.org/resource/Shirley_Ann_Russell&gt;</td>\n",
       "      <td>&lt;http://dbpedia.org/resource/Shirley_Ann_Russe...</td>\n",
       "      <td>/m/02vkvcz &lt;http://www.w3.org/2000/01/rdf-sche...</td>\n",
       "    </tr>\n",
       "    <tr>\n",
       "      <th>860</th>\n",
       "      <td>/m/0gg5kmg</td>\n",
       "      <td>&lt;http://dbpedia.org/resource/Killing_Them_Softly&gt;</td>\n",
       "      <td>&lt;http://dbpedia.org/resource/Killing_Them_Soft...</td>\n",
       "      <td>/m/0gg5kmg &lt;http://www.w3.org/2000/01/rdf-sche...</td>\n",
       "    </tr>\n",
       "    <tr>\n",
       "      <th>5390</th>\n",
       "      <td>/m/01pk8b</td>\n",
       "      <td>&lt;http://dbpedia.org/resource/Jeddah&gt;</td>\n",
       "      <td>&lt;http://dbpedia.org/resource/Jeddah&gt; &lt;http://w...</td>\n",
       "      <td>/m/01pk8b &lt;http://www.w3.org/2000/01/rdf-schem...</td>\n",
       "    </tr>\n",
       "    <tr>\n",
       "      <th>5191</th>\n",
       "      <td>/m/0mbhr</td>\n",
       "      <td>&lt;http://dbpedia.org/resource/Joanna_Lumley&gt;</td>\n",
       "      <td>&lt;http://dbpedia.org/resource/Joanna_Lumley&gt; &lt;h...</td>\n",
       "      <td>/m/0mbhr &lt;http://www.w3.org/2000/01/rdf-schema...</td>\n",
       "    </tr>\n",
       "    <tr>\n",
       "      <th>11964</th>\n",
       "      <td>/m/0cw51</td>\n",
       "      <td>&lt;http://dbpedia.org/resource/Bhopal&gt;</td>\n",
       "      <td>&lt;http://dbpedia.org/resource/Bhopal&gt; &lt;http://w...</td>\n",
       "      <td>/m/0cw51 &lt;http://www.w3.org/2000/01/rdf-schema...</td>\n",
       "    </tr>\n",
       "  </tbody>\n",
       "</table>\n",
       "</div>"
      ],
      "text/plain": [
       "               FB                                                 DB  \\\n",
       "7270   /m/02vkvcz  <http://dbpedia.org/resource/Shirley_Ann_Russell>   \n",
       "860    /m/0gg5kmg  <http://dbpedia.org/resource/Killing_Them_Softly>   \n",
       "5390    /m/01pk8b               <http://dbpedia.org/resource/Jeddah>   \n",
       "5191     /m/0mbhr        <http://dbpedia.org/resource/Joanna_Lumley>   \n",
       "11964    /m/0cw51               <http://dbpedia.org/resource/Bhopal>   \n",
       "\n",
       "                                              DB_labeled  \\\n",
       "7270   <http://dbpedia.org/resource/Shirley_Ann_Russe...   \n",
       "860    <http://dbpedia.org/resource/Killing_Them_Soft...   \n",
       "5390   <http://dbpedia.org/resource/Jeddah> <http://w...   \n",
       "5191   <http://dbpedia.org/resource/Joanna_Lumley> <h...   \n",
       "11964  <http://dbpedia.org/resource/Bhopal> <http://w...   \n",
       "\n",
       "                                              FB_labeled  \n",
       "7270   /m/02vkvcz <http://www.w3.org/2000/01/rdf-sche...  \n",
       "860    /m/0gg5kmg <http://www.w3.org/2000/01/rdf-sche...  \n",
       "5390   /m/01pk8b <http://www.w3.org/2000/01/rdf-schem...  \n",
       "5191   /m/0mbhr <http://www.w3.org/2000/01/rdf-schema...  \n",
       "11964  /m/0cw51 <http://www.w3.org/2000/01/rdf-schema...  "
      ]
     },
     "execution_count": 109,
     "metadata": {},
     "output_type": "execute_result"
    }
   ],
   "source": [
    "sampled = sampled.apply(lambda x: create_label(x), axis=1)\n",
    "sampled.head()"
   ]
  },
  {
   "cell_type": "code",
   "execution_count": 110,
   "metadata": {},
   "outputs": [],
   "source": [
    "DB_lines_labeled = DB_lines + sampled[\"DB_labeled\"].to_list()\n",
    "FB_lines_labeled = FB_lines + sampled[\"FB_labeled\"].to_list()"
   ]
  },
  {
   "cell_type": "code",
   "execution_count": 111,
   "metadata": {},
   "outputs": [],
   "source": [
    "DB_label = open(\"test_DB.nt\", \"w\")\n",
    "FB_label = open(\"test_FB.nt\", \"w\")"
   ]
  },
  {
   "cell_type": "code",
   "execution_count": 112,
   "metadata": {},
   "outputs": [],
   "source": [
    "DB_label.writelines(DB_lines_labeled)\n",
    "FB_label.writelines(FB_lines_labeled)"
   ]
  },
  {
   "cell_type": "markdown",
   "metadata": {},
   "source": [
    "## Testing some accuracy measures"
   ]
  },
  {
   "cell_type": "code",
   "execution_count": 113,
   "metadata": {},
   "outputs": [],
   "source": [
    "same_file = open(\"data/DB15K_SameAsLink.nt\", \"r\")\n",
    "same_list = same_file.readlines()"
   ]
  },
  {
   "cell_type": "code",
   "execution_count": 114,
   "metadata": {},
   "outputs": [],
   "source": [
    "same_list = [same.replace(\" <SameAs>\", \"\").replace(\"<http://dbpedia.org/\",\"dbp:\")[:-4] for same in same_list]"
   ]
  },
  {
   "cell_type": "code",
   "execution_count": 115,
   "metadata": {},
   "outputs": [
    {
     "data": {
      "text/plain": [
       "['/m/01m4kpp dbp:resource/Andy_Griffith',\n",
       " '/m/01s47p dbp:resource/Spanish_Empire',\n",
       " '/m/0yyts dbp:resource/Driving_Miss_Daisy']"
      ]
     },
     "execution_count": 115,
     "metadata": {},
     "output_type": "execute_result"
    }
   ],
   "source": [
    "same_list[:3]"
   ]
  },
  {
   "cell_type": "code",
   "execution_count": 116,
   "metadata": {},
   "outputs": [],
   "source": [
    "res_list = pd.read_csv(\"output/0.5/0/9_eqv.tsv\", delimiter=\"\\t\", header=None, usecols=[0,1]).values.tolist()"
   ]
  },
  {
   "cell_type": "code",
   "execution_count": 117,
   "metadata": {},
   "outputs": [],
   "source": [
    "res_list = [\" \".join(x) for x in res_list]"
   ]
  },
  {
   "cell_type": "code",
   "execution_count": 118,
   "metadata": {},
   "outputs": [
    {
     "data": {
      "text/plain": [
       "['/m/027rn dbp:resource/Dominican_Republic',\n",
       " '/m/06v8s0 dbp:resource/Wendee_Lee',\n",
       " '/m/017dcd dbp:resource/Mighty_Morphin_Power_Rangers']"
      ]
     },
     "execution_count": 118,
     "metadata": {},
     "output_type": "execute_result"
    }
   ],
   "source": [
    "res_list[:3]"
   ]
  },
  {
   "cell_type": "code",
   "execution_count": 119,
   "metadata": {},
   "outputs": [],
   "source": [
    "def precision(same_list, res_list):\n",
    "    same_set = set(same_list)\n",
    "    res_set = set(res_list)\n",
    "    precision = len(same_set.intersection(res_set))/len(res_set)\n",
    "    return precision"
   ]
  },
  {
   "cell_type": "code",
   "execution_count": 120,
   "metadata": {},
   "outputs": [
    {
     "data": {
      "text/plain": [
       "0.9792908374583291"
      ]
     },
     "execution_count": 120,
     "metadata": {},
     "output_type": "execute_result"
    }
   ],
   "source": [
    "prec = precision(same_list, res_list)\n",
    "prec"
   ]
  },
  {
   "cell_type": "code",
   "execution_count": 121,
   "metadata": {},
   "outputs": [],
   "source": [
    "def recall(same_list, res_list):\n",
    "    same_set = set(same_list)\n",
    "    res_set = set(res_list)\n",
    "    recall = len(same_set.intersection(res_set))/len(same_set)\n",
    "    return recall"
   ]
  },
  {
   "cell_type": "code",
   "execution_count": 122,
   "metadata": {},
   "outputs": [
    {
     "data": {
      "text/plain": [
       "0.754631791997509"
      ]
     },
     "execution_count": 122,
     "metadata": {},
     "output_type": "execute_result"
    }
   ],
   "source": [
    "rec = recall(same_list, res_list)\n",
    "rec"
   ]
  },
  {
   "cell_type": "code",
   "execution_count": 123,
   "metadata": {},
   "outputs": [],
   "source": [
    "def f1_score(precision, recall):\n",
    "    f1 = 2*precision*recall/(precision + recall)\n",
    "    return f1"
   ]
  },
  {
   "cell_type": "code",
   "execution_count": 124,
   "metadata": {},
   "outputs": [
    {
     "data": {
      "text/plain": [
       "0.8524071224444933"
      ]
     },
     "execution_count": 124,
     "metadata": {},
     "output_type": "execute_result"
    }
   ],
   "source": [
    "f1 = f1_score(prec, rec)\n",
    "f1"
   ]
  },
  {
   "cell_type": "markdown",
   "metadata": {},
   "source": [
    "## Check if we find at least all the seed"
   ]
  },
  {
   "cell_type": "code",
   "execution_count": 125,
   "metadata": {},
   "outputs": [
    {
     "data": {
      "text/html": [
       "<div>\n",
       "<style scoped>\n",
       "    .dataframe tbody tr th:only-of-type {\n",
       "        vertical-align: middle;\n",
       "    }\n",
       "\n",
       "    .dataframe tbody tr th {\n",
       "        vertical-align: top;\n",
       "    }\n",
       "\n",
       "    .dataframe thead th {\n",
       "        text-align: right;\n",
       "    }\n",
       "</style>\n",
       "<table border=\"1\" class=\"dataframe\">\n",
       "  <thead>\n",
       "    <tr style=\"text-align: right;\">\n",
       "      <th></th>\n",
       "      <th>FB</th>\n",
       "      <th>DB</th>\n",
       "      <th>DB_labeled</th>\n",
       "      <th>FB_labeled</th>\n",
       "    </tr>\n",
       "  </thead>\n",
       "  <tbody>\n",
       "    <tr>\n",
       "      <th>7270</th>\n",
       "      <td>/m/02vkvcz</td>\n",
       "      <td>&lt;http://dbpedia.org/resource/Shirley_Ann_Russell&gt;</td>\n",
       "      <td>&lt;http://dbpedia.org/resource/Shirley_Ann_Russe...</td>\n",
       "      <td>/m/02vkvcz &lt;http://www.w3.org/2000/01/rdf-sche...</td>\n",
       "    </tr>\n",
       "    <tr>\n",
       "      <th>860</th>\n",
       "      <td>/m/0gg5kmg</td>\n",
       "      <td>&lt;http://dbpedia.org/resource/Killing_Them_Softly&gt;</td>\n",
       "      <td>&lt;http://dbpedia.org/resource/Killing_Them_Soft...</td>\n",
       "      <td>/m/0gg5kmg &lt;http://www.w3.org/2000/01/rdf-sche...</td>\n",
       "    </tr>\n",
       "    <tr>\n",
       "      <th>5390</th>\n",
       "      <td>/m/01pk8b</td>\n",
       "      <td>&lt;http://dbpedia.org/resource/Jeddah&gt;</td>\n",
       "      <td>&lt;http://dbpedia.org/resource/Jeddah&gt; &lt;http://w...</td>\n",
       "      <td>/m/01pk8b &lt;http://www.w3.org/2000/01/rdf-schem...</td>\n",
       "    </tr>\n",
       "    <tr>\n",
       "      <th>5191</th>\n",
       "      <td>/m/0mbhr</td>\n",
       "      <td>&lt;http://dbpedia.org/resource/Joanna_Lumley&gt;</td>\n",
       "      <td>&lt;http://dbpedia.org/resource/Joanna_Lumley&gt; &lt;h...</td>\n",
       "      <td>/m/0mbhr &lt;http://www.w3.org/2000/01/rdf-schema...</td>\n",
       "    </tr>\n",
       "    <tr>\n",
       "      <th>11964</th>\n",
       "      <td>/m/0cw51</td>\n",
       "      <td>&lt;http://dbpedia.org/resource/Bhopal&gt;</td>\n",
       "      <td>&lt;http://dbpedia.org/resource/Bhopal&gt; &lt;http://w...</td>\n",
       "      <td>/m/0cw51 &lt;http://www.w3.org/2000/01/rdf-schema...</td>\n",
       "    </tr>\n",
       "  </tbody>\n",
       "</table>\n",
       "</div>"
      ],
      "text/plain": [
       "               FB                                                 DB  \\\n",
       "7270   /m/02vkvcz  <http://dbpedia.org/resource/Shirley_Ann_Russell>   \n",
       "860    /m/0gg5kmg  <http://dbpedia.org/resource/Killing_Them_Softly>   \n",
       "5390    /m/01pk8b               <http://dbpedia.org/resource/Jeddah>   \n",
       "5191     /m/0mbhr        <http://dbpedia.org/resource/Joanna_Lumley>   \n",
       "11964    /m/0cw51               <http://dbpedia.org/resource/Bhopal>   \n",
       "\n",
       "                                              DB_labeled  \\\n",
       "7270   <http://dbpedia.org/resource/Shirley_Ann_Russe...   \n",
       "860    <http://dbpedia.org/resource/Killing_Them_Soft...   \n",
       "5390   <http://dbpedia.org/resource/Jeddah> <http://w...   \n",
       "5191   <http://dbpedia.org/resource/Joanna_Lumley> <h...   \n",
       "11964  <http://dbpedia.org/resource/Bhopal> <http://w...   \n",
       "\n",
       "                                              FB_labeled  \n",
       "7270   /m/02vkvcz <http://www.w3.org/2000/01/rdf-sche...  \n",
       "860    /m/0gg5kmg <http://www.w3.org/2000/01/rdf-sche...  \n",
       "5390   /m/01pk8b <http://www.w3.org/2000/01/rdf-schem...  \n",
       "5191   /m/0mbhr <http://www.w3.org/2000/01/rdf-schema...  \n",
       "11964  /m/0cw51 <http://www.w3.org/2000/01/rdf-schema...  "
      ]
     },
     "execution_count": 125,
     "metadata": {},
     "output_type": "execute_result"
    }
   ],
   "source": [
    "sampled.head()"
   ]
  },
  {
   "cell_type": "code",
   "execution_count": 126,
   "metadata": {},
   "outputs": [
    {
     "data": {
      "text/plain": [
       "[['/m/018ym2', '<http://dbpedia.org/resource/Plovdiv>'],\n",
       " ['/m/016ppr', \"<http://dbpedia.org/resource/Destiny's_Child>\"],\n",
       " ['/m/03gfvsz', '<http://dbpedia.org/resource/KYMX>'],\n",
       " ['/m/0b90_r', '<http://dbpedia.org/resource/Mexico>'],\n",
       " ['/m/0gtvpkw', '<http://dbpedia.org/resource/To_Rome_with_Love_(film)>'],\n",
       " ['/m/0r2l7', '<http://dbpedia.org/resource/Orange,_California>'],\n",
       " ['/m/0dr3sl', '<http://dbpedia.org/resource/Shrek>'],\n",
       " ['/m/03t22m', '<http://dbpedia.org/resource/Soprano_saxophone>'],\n",
       " ['/m/038rz', '<http://dbpedia.org/resource/German_cuisine>'],\n",
       " ['/m/0chnf', '<http://dbpedia.org/resource/Solaris_(operating_system)>']]"
      ]
     },
     "execution_count": 126,
     "metadata": {},
     "output_type": "execute_result"
    }
   ],
   "source": [
    "seed_list = sampled[[\"FB\",\"DB\"]].values.tolist()\n",
    "seed_list[-10:]"
   ]
  },
  {
   "cell_type": "code",
   "execution_count": 127,
   "metadata": {},
   "outputs": [],
   "source": [
    "seed_list = [\" \".join(x).replace(\"<http://dbpedia.org/\",\"dbp:\")[:-1] for x in seed_list]"
   ]
  },
  {
   "cell_type": "code",
   "execution_count": 128,
   "metadata": {
    "scrolled": true
   },
   "outputs": [
    {
     "name": "stdout",
     "output_type": "stream",
     "text": [
      "the length of the seed_list is 6423\n"
     ]
    },
    {
     "data": {
      "text/plain": [
       "['/m/02vkvcz dbp:resource/Shirley_Ann_Russell',\n",
       " '/m/0gg5kmg dbp:resource/Killing_Them_Softly',\n",
       " '/m/01pk8b dbp:resource/Jeddah']"
      ]
     },
     "execution_count": 128,
     "metadata": {},
     "output_type": "execute_result"
    }
   ],
   "source": [
    "print(\"the length of the seed_list is {}\".format(len(seed_list)))\n",
    "seed_list[:3]"
   ]
  },
  {
   "cell_type": "code",
   "execution_count": 129,
   "metadata": {},
   "outputs": [
    {
     "name": "stdout",
     "output_type": "stream",
     "text": [
      "the length of the result is 9899\n"
     ]
    },
    {
     "data": {
      "text/plain": [
       "['/m/027rn dbp:resource/Dominican_Republic',\n",
       " '/m/06v8s0 dbp:resource/Wendee_Lee',\n",
       " '/m/017dcd dbp:resource/Mighty_Morphin_Power_Rangers']"
      ]
     },
     "execution_count": 129,
     "metadata": {},
     "output_type": "execute_result"
    }
   ],
   "source": [
    "print(\"the length of the result is {}\".format(len(res_list)))\n",
    "res_list[:3]"
   ]
  },
  {
   "cell_type": "code",
   "execution_count": 130,
   "metadata": {},
   "outputs": [
    {
     "name": "stdout",
     "output_type": "stream",
     "text": [
      "1536\n"
     ]
    }
   ],
   "source": [
    "c = 0\n",
    "not_found = []\n",
    "for s in seed_list:\n",
    "    if s not in res_list:\n",
    "        c += 1\n",
    "        not_found.append(s)\n",
    "print(c)"
   ]
  },
  {
   "cell_type": "code",
   "execution_count": 101,
   "metadata": {
    "scrolled": true
   },
   "outputs": [
    {
     "data": {
      "text/plain": [
       "['/m/03205_ dbp:resource/Adelphi_University',\n",
       " '/m/05b1062 dbp:resource/Asit_Sen_(director)',\n",
       " '/m/02ryyk dbp:resource/Republic_of_Ireland_national_football_team',\n",
       " '/m/024hbv dbp:resource/Homicide:_Life_on_the_Street',\n",
       " '/m/02g3gw dbp:resource/Saturn_Award_for_Best_Writing',\n",
       " '/m/0kn4c dbp:resource/William_Pitt_the_Younger',\n",
       " '/m/054gwt dbp:resource/The_Challenge_(TV_series)',\n",
       " '/m/0j8cb dbp:resource/Carolina_Hurricanes',\n",
       " \"/m/026xxv_ dbp:resource/North_Carolina_Tar_Heels_men's_basketball\",\n",
       " '/m/01tffp dbp:resource/Lebanese_Civil_War']"
      ]
     },
     "execution_count": 101,
     "metadata": {},
     "output_type": "execute_result"
    }
   ],
   "source": [
    "not_found[-10:]"
   ]
  },
  {
   "cell_type": "markdown",
   "metadata": {},
   "source": [
    "Credo il problema stia nel fatto che usiamo sampled, che e' preso con la stassa percentuale di sampling, ma non e' lo stesso sample usato per creare il risultato di results (quello in `res_list`). A fare in bene si dovrebbe caricare il file di input usato per generare quel result. Credo stia nella directory `data/seeded/`."
   ]
  },
  {
   "cell_type": "code",
   "execution_count": 11,
   "metadata": {},
   "outputs": [],
   "source": [
    "x = np.linspace(0,1,100)\n",
    "\n",
    "# the function, which is y = x^2 here\n",
    "precision = 0.6\n",
    "y = 2 * x * precision / (x + precision)\n",
    "\n",
    "# setting the axes at the centre\n",
    "fig = plt.figure(figsize=(10,10))\n",
    "ax = fig.add_subplot(1, 1, 1)\n",
    "plt.plot(x,y, 'r')\n",
    "ax.set_xbound(lower=0.0, upper=1.0)\n",
    "ax.set_ybound(lower=0.0, upper=1.0)\n",
    "plt.title(\"F1 score for fixed precision 0.6\", fontsize=17)\n",
    "plt.xlabel('Recall', fontsize=15)\n",
    "plt.ylabel('F1 score', fontsize=15)\n",
    "plt.savefig(\"plots/f1_score_plot.pdf\")\n",
    "plt.close()"
   ]
  }
 ],
 "metadata": {
  "kernelspec": {
   "display_name": "Python 3",
   "language": "python",
   "name": "python3"
  },
  "language_info": {
   "codemirror_mode": {
    "name": "ipython",
    "version": 3
   },
   "file_extension": ".py",
   "mimetype": "text/x-python",
   "name": "python",
   "nbconvert_exporter": "python",
   "pygments_lexer": "ipython3",
   "version": "3.8.3"
  }
 },
 "nbformat": 4,
 "nbformat_minor": 4
}
