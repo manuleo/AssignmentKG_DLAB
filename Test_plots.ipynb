{
 "cells": [
  {
   "cell_type": "code",
   "execution_count": 9,
   "metadata": {},
   "outputs": [],
   "source": [
    "from main import main\n",
    "import matplotlib.pyplot as plt\n",
    "import numpy as np"
   ]
  },
  {
   "cell_type": "code",
   "execution_count": 6,
   "metadata": {},
   "outputs": [
    {
     "name": "stdout",
     "output_type": "stream",
     "text": [
      "Chosen fraction = 10.0 %\n",
      "Run 0\n",
      "Running PARIS...\n",
      "PARIS output:\n",
      " Starting PARIS... \n",
      "  Settings specified on command line\n",
      "done\n",
      "PARIS is now running!\n",
      "For information about the current state of affairs, look into\n",
      "    ./run__20200616152200.txt\n",
      "PARIS terminated after 20476 milliseconds\n",
      "\n",
      "Computed precision per iteration:\n",
      "    Run 0: 1.0\n",
      "    Run 1: 0.7753120665742025\n",
      "    Run 2: 0.9881856540084388\n",
      "    Run 3: 0.8276036400404448\n",
      "    Run 4: 0.83570581257414\n",
      "    Run 5: 0.8436297804933243\n",
      "    Run 6: 0.8872843210802701\n",
      "    Run 7: 0.9065656565656566\n",
      "    Run 8: 0.9194133417442044\n",
      "    Run 9: 0.9214787656584174\n",
      "Computed recall per iteration:\n",
      "    Run 0: 0.08804297057449789\n",
      "    Run 1: 0.08703098240697493\n",
      "    Run 2: 0.0911567803207224\n",
      "    Run 3: 0.1274326638642379\n",
      "    Run 4: 0.21936789662151643\n",
      "    Run 5: 0.29020706834812393\n",
      "    Run 6: 0.3682858477347034\n",
      "    Run 7: 0.41919663708547406\n",
      "    Run 8: 0.4538377705122217\n",
      "    Run 9: 0.46956250973065544\n",
      "Computed F1 score per iteration:\n",
      "    Run 0: 0.16183730414251984\n",
      "    Run 1: 0.15649496080627098\n",
      "    Run 2: 0.16691611431829517\n",
      "    Run 3: 0.22085806799784136\n",
      "    Run 4: 0.34751510667159946\n",
      "    Run 5: 0.43185635679119605\n",
      "    Run 6: 0.5205193090549015\n",
      "    Run 7: 0.573299265410412\n",
      "    Run 8: 0.6077031323291812\n",
      "    Run 9: 0.6221122112211221\n",
      "Cleaning...\n",
      "Run 1\n",
      "Running PARIS...\n",
      "PARIS output:\n",
      " Starting PARIS... \n",
      "  Settings specified on command line\n",
      "done\n",
      "PARIS is now running!\n",
      "For information about the current state of affairs, look into\n",
      "    ./run__20200616152224.txt\n",
      "PARIS terminated after 20399 milliseconds\n",
      "\n",
      "Computed precision per iteration:\n",
      "    Run 0: 1.0\n",
      "    Run 1: 0.7649930264993027\n",
      "    Run 2: 0.9930915371329879\n",
      "    Run 3: 0.8674121405750799\n",
      "    Run 4: 0.8187016481668349\n",
      "    Run 5: 0.8233379823337982\n",
      "    Run 6: 0.8797065070476926\n",
      "    Run 7: 0.9020896528479946\n",
      "    Run 8: 0.9176341386884217\n",
      "    Run 9: 0.9167294082216534\n",
      "Computed recall per iteration:\n",
      "    Run 0: 0.0892884944729877\n",
      "    Run 1: 0.08539623229020707\n",
      "    Run 2: 0.08952203020395454\n",
      "    Run 3: 0.126809901914993\n",
      "    Run 4: 0.18947532305776116\n",
      "    Run 5: 0.27572785302818\n",
      "    Run 6: 0.3546629300949712\n",
      "    Run 7: 0.4167055892884945\n",
      "    Run 8: 0.45531683014167834\n",
      "    Run 9: 0.47392184337536974\n",
      "Computed F1 score per iteration:\n",
      "    Run 0: 0.16393911241334952\n",
      "    Run 1: 0.15364145658263306\n",
      "    Run 2: 0.16423878891745217\n",
      "    Run 3: 0.22127139364303178\n",
      "    Run 4: 0.3077312093052658\n",
      "    Run 5: 0.41310940051317935\n",
      "    Run 6: 0.5055201109570041\n",
      "    Run 7: 0.5700745473908414\n",
      "    Run 8: 0.608636836628512\n",
      "    Run 9: 0.6248268076153333\n",
      "Cleaning...\n",
      "Run 2\n",
      "Running PARIS...\n",
      "PARIS output:\n",
      " Starting PARIS... \n",
      "  Settings specified on command line\n",
      "done\n",
      "PARIS is now running!\n",
      "For information about the current state of affairs, look into\n",
      "    ./run__20200616152247.txt\n",
      "PARIS terminated after 21155 milliseconds\n",
      "\n",
      "Computed precision per iteration:\n",
      "    Run 0: 1.0\n",
      "    Run 1: 0.7755376344086021\n",
      "    Run 2: 0.9898132427843803\n",
      "    Run 3: 0.8525703200775946\n",
      "    Run 4: 0.8059701492537313\n",
      "    Run 5: 0.8557904007045355\n",
      "    Run 6: 0.8895137880986937\n",
      "    Run 7: 0.9149777558082056\n",
      "    Run 8: 0.9233542319749216\n",
      "    Run 9: 0.9248246416590424\n",
      "Computed recall per iteration:\n",
      "    Run 0: 0.08959987544761015\n",
      "    Run 1: 0.08983341117857699\n",
      "    Run 2: 0.09076755410244434\n",
      "    Run 3: 0.13685193834656703\n",
      "    Run 4: 0.21018215787015412\n",
      "    Run 5: 0.30258446208936635\n",
      "    Run 6: 0.3816752296434688\n",
      "    Run 7: 0.432274638019617\n",
      "    Run 8: 0.45858633037521407\n",
      "    Run 9: 0.4721314027712907\n",
      "Computed F1 score per iteration:\n",
      "    Run 0: 0.1644638136743588\n",
      "    Run 1: 0.16101576670852516\n",
      "    Run 2: 0.16628636622932116\n",
      "    Run 3: 0.23584652535551381\n",
      "    Run 4: 0.3334156581872067\n",
      "    Run 5: 0.4470899470899471\n",
      "    Run 6: 0.5341540472818389\n",
      "    Run 7: 0.5871530531324346\n",
      "    Run 8: 0.6128159783626339\n",
      "    Run 9: 0.6251288394145538\n",
      "Cleaning...\n"
     ]
    }
   ],
   "source": [
    "precisions, recalls, f1_scores, timings = main()"
   ]
  },
  {
   "cell_type": "code",
   "execution_count": 7,
   "metadata": {},
   "outputs": [
    {
     "data": {
      "text/plain": [
       "[{0: 1.0,\n",
       "  1: 0.7753120665742025,\n",
       "  2: 0.9881856540084388,\n",
       "  3: 0.8276036400404448,\n",
       "  4: 0.83570581257414,\n",
       "  5: 0.8436297804933243,\n",
       "  6: 0.8872843210802701,\n",
       "  7: 0.9065656565656566,\n",
       "  8: 0.9194133417442044,\n",
       "  9: 0.9214787656584174},\n",
       " {0: 1.0,\n",
       "  1: 0.7649930264993027,\n",
       "  2: 0.9930915371329879,\n",
       "  3: 0.8674121405750799,\n",
       "  4: 0.8187016481668349,\n",
       "  5: 0.8233379823337982,\n",
       "  6: 0.8797065070476926,\n",
       "  7: 0.9020896528479946,\n",
       "  8: 0.9176341386884217,\n",
       "  9: 0.9167294082216534},\n",
       " {0: 1.0,\n",
       "  1: 0.7755376344086021,\n",
       "  2: 0.9898132427843803,\n",
       "  3: 0.8525703200775946,\n",
       "  4: 0.8059701492537313,\n",
       "  5: 0.8557904007045355,\n",
       "  6: 0.8895137880986937,\n",
       "  7: 0.9149777558082056,\n",
       "  8: 0.9233542319749216,\n",
       "  9: 0.9248246416590424}]"
      ]
     },
     "execution_count": 7,
     "metadata": {},
     "output_type": "execute_result"
    }
   ],
   "source": [
    "precisions"
   ]
  },
  {
   "cell_type": "code",
   "execution_count": 15,
   "metadata": {},
   "outputs": [],
   "source": [
    "precision_means = []\n",
    "precision_stds = []\n",
    "last_iter = max(precisions[0].keys())\n",
    "for i in range(last_iter+1):\n",
    "    iter_values = [val[i] for val in precisions]\n",
    "    precision_means.append(np.mean(iter_values))\n",
    "    precision_stds.append(np.std(iter_values))"
   ]
  },
  {
   "cell_type": "code",
   "execution_count": 18,
   "metadata": {},
   "outputs": [
    {
     "data": {
      "text/plain": [
       "<ErrorbarContainer object of 3 artists>"
      ]
     },
     "execution_count": 18,
     "metadata": {},
     "output_type": "execute_result"
    },
    {
     "data": {
      "image/png": "[encoded data removed]",
      "text/plain": [
       "<Figure size 432x288 with 1 Axes>"
      ]
     },
     "metadata": {
      "needs_background": "light"
     },
     "output_type": "display_data"
    }
   ],
   "source": [
    "plt.errorbar(range(last_iter+1), precision_means, yerr=precision_stds)"
   ]
  },
  {
   "cell_type": "code",
   "execution_count": 19,
   "metadata": {},
   "outputs": [],
   "source": [
    "recall_means = []\n",
    "recall_stds = []\n",
    "last_iter = max(recalls[0].keys())\n",
    "for i in range(last_iter+1):\n",
    "    iter_values = [val[i] for val in recalls]\n",
    "    recall_means.append(np.mean(iter_values))\n",
    "    recall_stds.append(np.std(iter_values))"
   ]
  },
  {
   "cell_type": "code",
   "execution_count": 20,
   "metadata": {},
   "outputs": [
    {
     "data": {
      "text/plain": [
       "<ErrorbarContainer object of 3 artists>"
      ]
     },
     "execution_count": 20,
     "metadata": {},
     "output_type": "execute_result"
    },
    {
     "data": {
      "image/png": "[encoded data removed]",
      "text/plain": [
       "<Figure size 432x288 with 1 Axes>"
      ]
     },
     "metadata": {
      "needs_background": "light"
     },
     "output_type": "display_data"
    }
   ],
   "source": [
    "plt.errorbar(range(last_iter+1), recall_means, yerr=recall_stds)"
   ]
  },
  {
   "cell_type": "code",
   "execution_count": 21,
   "metadata": {},
   "outputs": [],
   "source": [
    "f1_score_means = []\n",
    "f1_score_stds = []\n",
    "last_iter = max(f1_scores[0].keys())\n",
    "for i in range(last_iter+1):\n",
    "    iter_values = [val[i] for val in f1_scores]\n",
    "    f1_score_means.append(np.mean(iter_values))\n",
    "    f1_score_stds.append(np.std(iter_values))"
   ]
  },
  {
   "cell_type": "code",
   "execution_count": 22,
   "metadata": {},
   "outputs": [
    {
     "data": {
      "text/plain": [
       "<ErrorbarContainer object of 3 artists>"
      ]
     },
     "execution_count": 22,
     "metadata": {},
     "output_type": "execute_result"
    },
    {
     "data": {
      "image/png": "[encoded data removed]",
      "text/plain": [
       "<Figure size 432x288 with 1 Axes>"
      ]
     },
     "metadata": {
      "needs_background": "light"
     },
     "output_type": "display_data"
    }
   ],
   "source": [
    "plt.errorbar(range(last_iter+1), f1_score_means, yerr=f1_score_stds)"
   ]
  },
  {
   "cell_type": "code",
   "execution_count": 31,
   "metadata": {},
   "outputs": [],
   "source": [
    "def bootstrap_metric(metric_list, n_iter):\n",
    "    \"\"\"Compute bootstrap means list to be used for computing confidence intervals\n",
    "        using bootstrap resample\"\"\"\n",
    "    means = []\n",
    "    last_iter = max(metric_list[0].keys())\n",
    "    metric_last = [val[last_iter] for val in metric_list]\n",
    "    for i in range(n_iter):\n",
    "        # Bootstrap\n",
    "        metric_sample = np.random.choice(metric_last, size=len(metric_last), replace=True)\n",
    "        means.append(np.mean(metric_sample))\n",
    "\n",
    "    return means"
   ]
  },
  {
   "cell_type": "code",
   "execution_count": 23,
   "metadata": {},
   "outputs": [],
   "source": [
    "def confidence_interval(means, conf_percent):\n",
    "    # Computing low quantile (2.5 in our case)\n",
    "    low_p = ((1.0 - conf_percent) / 2.0) * 100\n",
    "    lower = np.percentile(means, low_p)\n",
    "\n",
    "    # Computing high quantile\n",
    "    high_p = (conf_percent + ((1.0 - conf_percent) / 2.0)) * 100\n",
    "    upper = np.percentile(means, high_p)\n",
    "\n",
    "    return [lower, upper]"
   ]
  },
  {
   "cell_type": "code",
   "execution_count": 32,
   "metadata": {},
   "outputs": [],
   "source": [
    "means_precision = bootstrap_metric(precisions, 1000)"
   ]
  },
  {
   "cell_type": "code",
   "execution_count": 35,
   "metadata": {},
   "outputs": [
    {
     "name": "stdout",
     "output_type": "stream",
     "text": [
      "[0.9167294082216534, 0.9248246416590424]\n"
     ]
    }
   ],
   "source": [
    "interval = confidence_interval(means_precision, 0.95)\n",
    "print(interval)"
   ]
  },
  {
   "cell_type": "code",
   "execution_count": 57,
   "metadata": {},
   "outputs": [],
   "source": [
    "def plot_confidence(means_metric, interval):\n",
    "    # Computing the mean error\n",
    "    mean = np.mean(means_metric)\n",
    "\n",
    "    # Plot scores\n",
    "    plt.hist(means_metric, bins=5)\n",
    "\n",
    "    # Plot of two interval lines\n",
    "    plt.axvline(interval[0], color='k', linestyle='dashed', linewidth=1)\n",
    "    plt.axvline(interval[1], color='k', linestyle='dashed', linewidth=1)\n",
    "    plt.axvline(mean, color='r', linestyle='dashed', linewidth=1)\n",
    "\n",
    "    plt.title(\"95.0 % confidence interval\")\n",
    "    plt.xlabel(\"A certain metric mean\")\n",
    "    plt.ylabel(\"Count\")"
   ]
  },
  {
   "cell_type": "code",
   "execution_count": 58,
   "metadata": {},
   "outputs": [
    {
     "data": {
      "image/png": "[encoded data removed]",
      "text/plain": [
       "<Figure size 432x288 with 1 Axes>"
      ]
     },
     "metadata": {
      "needs_background": "light"
     },
     "output_type": "display_data"
    }
   ],
   "source": [
    "plot_confidence(means_precision, interval)"
   ]
  },
  {
   "cell_type": "code",
   "execution_count": 68,
   "metadata": {},
   "outputs": [],
   "source": [
    "def plot_error(means_metric, interval):\n",
    "    #computing the error bar for confidence interval\n",
    "    error = interval[1] - interval[0]\n",
    "    mean = np.mean(means_metric)\n",
    "    \n",
    "    # Plotting on bar plot\n",
    "    plt.barh([\"Precision\"], mean,\n",
    "             xerr=error,\n",
    "             height=0.1,\n",
    "             color=[\"dodgerblue\"])\n",
    "    plt.title(\"Mean error bar plot with confidence interval\")\n",
    "    plt.xlabel(\"Mean error\")\n",
    "    plt.ylabel(\"Models\")"
   ]
  },
  {
   "cell_type": "code",
   "execution_count": 69,
   "metadata": {},
   "outputs": [
    {
     "data": {
      "image/png": "[encoded data removed]",
      "text/plain": [
       "<Figure size 432x288 with 1 Axes>"
      ]
     },
     "metadata": {
      "needs_background": "light"
     },
     "output_type": "display_data"
    }
   ],
   "source": [
    "plot_error(means_precision, interval)"
   ]
  }
 ],
 "metadata": {
  "kernelspec": {
   "display_name": "Python 3",
   "language": "python",
   "name": "python3"
  },
  "language_info": {
   "codemirror_mode": {
    "name": "ipython",
    "version": 3
   },
   "file_extension": ".py",
   "mimetype": "text/x-python",
   "name": "python",
   "nbconvert_exporter": "python",
   "pygments_lexer": "ipython3",
   "version": "3.8.2"
  }
 },
 "nbformat": 4,
 "nbformat_minor": 4
}
