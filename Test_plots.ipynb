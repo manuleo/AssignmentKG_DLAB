{
 "cells": [
  {
   "cell_type": "code",
   "execution_count": 36,
   "metadata": {},
   "outputs": [],
   "source": [
    "from main import main\n",
    "import matplotlib.pyplot as plt\n",
    "import numpy as np\n",
    "import pickle\n",
    "%matplotlib inline"
   ]
  },
  {
   "cell_type": "code",
   "execution_count": 37,
   "metadata": {},
   "outputs": [],
   "source": [
    "matplotlib.use(\"pgf\")\n",
    "matplotlib.rcParams.update({\n",
    "    \"pgf.texsystem\": \"pdflatex\",\n",
    "    'font.family': 'serif',\n",
    "    'text.usetex': True,\n",
    "    'pgf.rcfonts': False,\n",
    "})"
   ]
  },
  {
   "cell_type": "code",
   "execution_count": 38,
   "metadata": {},
   "outputs": [],
   "source": [
    "with open(\"data/pkl/0.1/precisions.pkl\", \"rb\") as f:\n",
    "    precisions = pickle.load(f)\n",
    "with open(\"data/pkl/0.1/recalls.pkl\", \"rb\") as f:\n",
    "    recalls = pickle.load(f)\n",
    "with open(\"data/pkl/0.1/f1_scores.pkl\", \"rb\") as f:\n",
    "    f1_scores = pickle.load(f)\n",
    "with open(\"data/pkl/0.1/timings.pkl\", \"rb\") as f:\n",
    "    timings = pickle.load(f)"
   ]
  },
  {
   "cell_type": "code",
   "execution_count": 39,
   "metadata": {},
   "outputs": [],
   "source": [
    "precision_means = []\n",
    "precision_stds = []\n",
    "last_iter = max(precisions[0].keys())\n",
    "for i in range(last_iter+1):\n",
    "    iter_values = [val[i] for val in precisions]\n",
    "    precision_means.append(np.mean(iter_values))\n",
    "    precision_stds.append(np.std(iter_values))"
   ]
  },
  {
   "cell_type": "code",
   "execution_count": 41,
   "metadata": {},
   "outputs": [
    {
     "data": {
      "text/plain": [
       "Text(0, 0.5, 'some numbers')"
      ]
     },
     "execution_count": 41,
     "metadata": {},
     "output_type": "execute_result"
    },
    {
     "data": {
      "image/png": "[encoded data removed]",
      "text/plain": [
       "<Figure size 432x288 with 1 Axes>"
      ]
     },
     "metadata": {
      "needs_background": "light"
     },
     "output_type": "display_data"
    }
   ],
   "source": [
    "plt.plot([1, 2, 3, 4])\n",
    "plt.ylabel('some numbers')\n"
   ]
  },
  {
   "cell_type": "code",
   "execution_count": 42,
   "metadata": {},
   "outputs": [
    {
     "data": {
      "text/plain": [
       "<ErrorbarContainer object of 3 artists>"
      ]
     },
     "execution_count": 42,
     "metadata": {},
     "output_type": "execute_result"
    },
    {
     "data": {
      "image/png": "[encoded data removed]",
      "text/plain": [
       "<Figure size 432x288 with 1 Axes>"
      ]
     },
     "metadata": {
      "needs_background": "light"
     },
     "output_type": "display_data"
    }
   ],
   "source": [
    "plt.errorbar(range(last_iter+1), precision_means, yerr=precision_stds)"
   ]
  },
  {
   "cell_type": "code",
   "execution_count": 7,
   "metadata": {},
   "outputs": [],
   "source": [
    "recall_means = []\n",
    "recall_stds = []\n",
    "last_iter = max(recalls[0].keys())\n",
    "for i in range(last_iter+1):\n",
    "    iter_values = [val[i] for val in recalls]\n",
    "    recall_means.append(np.mean(iter_values))\n",
    "    recall_stds.append(np.std(iter_values))"
   ]
  },
  {
   "cell_type": "code",
   "execution_count": 24,
   "metadata": {},
   "outputs": [
    {
     "data": {
      "text/plain": [
       "<ErrorbarContainer object of 3 artists>"
      ]
     },
     "execution_count": 24,
     "metadata": {},
     "output_type": "execute_result"
    }
   ],
   "source": [
    "plt.errorbar(range(last_iter+1), recall_means, yerr=recall_stds)"
   ]
  },
  {
   "cell_type": "code",
   "execution_count": 8,
   "metadata": {},
   "outputs": [],
   "source": [
    "f1_score_means = []\n",
    "f1_score_stds = []\n",
    "last_iter = max(f1_scores[0].keys())\n",
    "for i in range(last_iter+1):\n",
    "    iter_values = [val[i] for val in f1_scores]\n",
    "    f1_score_means.append(np.mean(iter_values))\n",
    "    f1_score_stds.append(np.std(iter_values))"
   ]
  },
  {
   "cell_type": "code",
   "execution_count": 9,
   "metadata": {},
   "outputs": [
    {
     "data": {
      "text/plain": [
       "<ErrorbarContainer object of 3 artists>"
      ]
     },
     "execution_count": 9,
     "metadata": {},
     "output_type": "execute_result"
    }
   ],
   "source": [
    "plt.errorbar(range(last_iter+1), f1_score_means, yerr=f1_score_stds)"
   ]
  },
  {
   "cell_type": "code",
   "execution_count": 10,
   "metadata": {},
   "outputs": [
    {
     "data": {
      "text/plain": [
       "<BarContainer object of 1 artists>"
      ]
     },
     "execution_count": 10,
     "metadata": {},
     "output_type": "execute_result"
    }
   ],
   "source": [
    "timings_mean = np.mean(timings)\n",
    "timings_std = np.std(timings)\n",
    "plt.bar(\"Timing\", timings_mean, yerr=timings_std)"
   ]
  },
  {
   "cell_type": "code",
   "execution_count": 11,
   "metadata": {},
   "outputs": [],
   "source": [
    "plt.boxplot(timings, labels=[\"Timing\"]);"
   ]
  },
  {
   "cell_type": "code",
   "execution_count": 12,
   "metadata": {},
   "outputs": [],
   "source": [
    "def bootstrap_metric(metric_list, n_iter):\n",
    "    \"\"\"Compute bootstrap means list to be used for computing confidence intervals\n",
    "        using bootstrap resample\"\"\"\n",
    "    means = []\n",
    "    last_iter = max(metric_list[0].keys())\n",
    "    metric_last = [val[last_iter] for val in metric_list]\n",
    "    for i in range(n_iter):\n",
    "        # Bootstrap\n",
    "        metric_sample = np.random.choice(metric_last, size=len(metric_last), replace=True)\n",
    "        means.append(np.mean(metric_sample))\n",
    "\n",
    "    return means"
   ]
  },
  {
   "cell_type": "code",
   "execution_count": 13,
   "metadata": {},
   "outputs": [],
   "source": [
    "def confidence_interval(means, conf_percent):\n",
    "    # Computing low quantile (2.5 in our case)\n",
    "    low_p = ((1.0 - conf_percent) / 2.0) * 100\n",
    "    lower = np.percentile(means, low_p)\n",
    "\n",
    "    # Computing high quantile\n",
    "    high_p = (conf_percent + ((1.0 - conf_percent) / 2.0)) * 100\n",
    "    upper = np.percentile(means, high_p)\n",
    "\n",
    "    return [lower, upper]"
   ]
  },
  {
   "cell_type": "code",
   "execution_count": 14,
   "metadata": {},
   "outputs": [],
   "source": [
    "means_precision = bootstrap_metric(precisions, 1000)"
   ]
  },
  {
   "cell_type": "code",
   "execution_count": 15,
   "metadata": {},
   "outputs": [
    {
     "name": "stdout",
     "output_type": "stream",
     "text": [
      "[0.918946787260123, 0.9221453192865787]\n"
     ]
    }
   ],
   "source": [
    "interval = confidence_interval(means_precision, 0.95)\n",
    "print(interval)"
   ]
  },
  {
   "cell_type": "code",
   "execution_count": 16,
   "metadata": {},
   "outputs": [],
   "source": [
    "def plot_confidence(means_metric, interval):\n",
    "    # Computing the mean error\n",
    "    mean = np.mean(means_metric)\n",
    "\n",
    "    # Plot scores\n",
    "    plt.hist(means_metric, bins=25)\n",
    "\n",
    "    # Plot of two interval lines\n",
    "    plt.axvline(interval[0], color='k', linestyle='dashed', linewidth=1)\n",
    "    plt.axvline(interval[1], color='k', linestyle='dashed', linewidth=1)\n",
    "    plt.axvline(mean, color='r', linestyle='dashed', linewidth=1)\n",
    "\n",
    "    plt.title(\"95.0 % confidence interval\")\n",
    "    plt.xlabel(\"A certain metric mean\")\n",
    "    plt.ylabel(\"Count\")"
   ]
  },
  {
   "cell_type": "code",
   "execution_count": 17,
   "metadata": {},
   "outputs": [],
   "source": [
    "plot_confidence(means_precision, interval)"
   ]
  }
 ],
 "metadata": {
  "celltoolbar": "Tags",
  "kernelspec": {
   "display_name": "Python 3",
   "language": "python",
   "name": "python3"
  },
  "language_info": {
   "codemirror_mode": {
    "name": "ipython",
    "version": 3
   },
   "file_extension": ".py",
   "mimetype": "text/x-python",
   "name": "python",
   "nbconvert_exporter": "python",
   "pygments_lexer": "ipython3",
   "version": "3.8.3"
  }
 },
 "nbformat": 4,
 "nbformat_minor": 4
}
